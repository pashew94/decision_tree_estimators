{
  "cells": [
    {
      "cell_type": "code",
      "execution_count": null,
      "metadata": {
        "collapsed": false
      },
      "outputs": [],
      "source": [
        "%matplotlib inline"
      ]
    },
    {
      "cell_type": "markdown",
      "metadata": {},
      "source": [
        "\n# Tree Plotting Example\n\nAn example of plotting a fit decision tree using :class:`trees.utils.TreePlotter.TreePlotter`\n"
      ]
    },
    {
      "cell_type": "code",
      "execution_count": null,
      "metadata": {
        "collapsed": false
      },
      "outputs": [],
      "source": [
        "import pandas as pd\nfrom sklearn.model_selection import train_test_split\nfrom trees.StrongTree import StrongTreeClassifier\nfrom trees.utils.TreePlotter import TreePlotter\n\n\ndata = pd.read_csv(\"data/balance-scale_enc.csv\")\ny = data.pop(\"target\")\n\nX_train, X_test, y_train, y_test = train_test_split(\n    data, y, test_size=0.33, random_state=42\n)\n\nstcl = StrongTreeClassifier(4, 20, 0.6)\n\nstcl.fit(X_train, y_train)\n\n\ntree_plot = TreePlotter(\n    stcl.tree,\n    stcl.labels,\n    stcl.X_col_labels,\n    stcl.b_value,\n    stcl.beta_value,\n    stcl.p_value,\n)\n\n# TO-DO: need better way to choose node positions in drawNode()\ntree_plot.plot()"
      ]
    }
  ],
  "metadata": {
    "kernelspec": {
      "display_name": "Python 3",
      "language": "python",
      "name": "python3"
    },
    "language_info": {
      "codemirror_mode": {
        "name": "ipython",
        "version": 3
      },
      "file_extension": ".py",
      "mimetype": "text/x-python",
      "name": "python",
      "nbconvert_exporter": "python",
      "pygments_lexer": "ipython3",
      "version": "3.10.2"
    }
  },
  "nbformat": 4,
  "nbformat_minor": 0
}