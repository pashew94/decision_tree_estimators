{
  "cells": [
    {
      "cell_type": "code",
      "execution_count": null,
      "metadata": {
        "collapsed": false
      },
      "outputs": [],
      "source": [
        "%matplotlib inline"
      ]
    },
    {
      "cell_type": "markdown",
      "metadata": {},
      "source": [
        "\n# Sklearn Pipeline Example\n\nAn example of using the sklearn train_test_split pipeline with :class:`trees.StrongTree.StrongTreeClassifier`\n"
      ]
    },
    {
      "cell_type": "code",
      "execution_count": null,
      "metadata": {
        "collapsed": false
      },
      "outputs": [],
      "source": [
        "import pandas as pd\nfrom sklearn.model_selection import train_test_split\nfrom trees.StrongTree import StrongTreeClassifier\n\n\ndata = pd.read_csv(\"../data/balance-scale_enc.csv\")\ny = data.pop(\"target\")\n\nX_train, X_test, y_train, y_test = train_test_split(\n    data, y, test_size=0.33, random_state=42\n)\n\nstcl = StrongTreeClassifier(1, 100, 0)\n\nstcl.fit(X_train, y_train)\n\nstcl.predict(X_test)"
      ]
    }
  ],
  "metadata": {
    "kernelspec": {
      "display_name": "Python 3",
      "language": "python",
      "name": "python3"
    },
    "language_info": {
      "codemirror_mode": {
        "name": "ipython",
        "version": 3
      },
      "file_extension": ".py",
      "mimetype": "text/x-python",
      "name": "python",
      "nbconvert_exporter": "python",
      "pygments_lexer": "ipython3",
      "version": "3.10.2"
    }
  },
  "nbformat": 4,
  "nbformat_minor": 0
}